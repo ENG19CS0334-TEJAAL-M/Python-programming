{
  "nbformat": 4,
  "nbformat_minor": 0,
  "metadata": {
    "colab": {
      "name": "VODAFONE LAB.ipynb",
      "provenance": [],
      "collapsed_sections": [],
      "authorship_tag": "ABX9TyPVI3vl6en7WNySi2VGWogW",
      "include_colab_link": true
    },
    "kernelspec": {
      "name": "python3",
      "display_name": "Python 3"
    },
    "language_info": {
      "name": "python"
    }
  },
  "cells": [
    {
      "cell_type": "markdown",
      "metadata": {
        "id": "view-in-github",
        "colab_type": "text"
      },
      "source": [
        "<a href=\"https://colab.research.google.com/github/ENG19CS0334-TEJAAL-M/hmm/blob/main/VODAFONE_LAB.ipynb\" target=\"_parent\"><img src=\"https://colab.research.google.com/assets/colab-badge.svg\" alt=\"Open In Colab\"/></a>"
      ]
    },
    {
      "cell_type": "code",
      "metadata": {
        "colab": {
          "base_uri": "https://localhost:8080/"
        },
        "id": "wGrip8wakQU1",
        "outputId": "fef56088-15b8-4513-b419-9c1c4a531d4f"
      },
      "source": [
        "#vodafone program\n",
        "#06/09/2021\n",
        "list_of_students=[\"telephone\",44.5,'ee']\n",
        "type(list_of_students)\n",
        "list_of_students\n",
        "list_of_students[0]\n",
        "a=[1,2,3,4]\n",
        "b=[4,5,6]\n",
        "b[:3]\n",
        "b[0]=\"ram\"\n",
        "b\n",
        "#lists are mutable\n",
        "for i in a:\n",
        "  print(i)\n",
        "a.insert(2,\"sam\")\n",
        "a\n",
        "a.remove('sam')\n",
        "a\n",
        "a.reverse()\n",
        "a\n",
        "i=0\n",
        "while i<len(a):\n",
        "  print(a[i])\n",
        "  i=i+1"
      ],
      "execution_count": 13,
      "outputs": [
        {
          "output_type": "stream",
          "name": "stdout",
          "text": [
            "1\n",
            "2\n",
            "3\n",
            "4\n",
            "4\n",
            "3\n",
            "2\n",
            "1\n"
          ]
        }
      ]
    },
    {
      "cell_type": "code",
      "metadata": {
        "colab": {
          "base_uri": "https://localhost:8080/"
        },
        "id": "m3dmCFAQk8nT",
        "outputId": "aaa41ef5-8d95-4963-d455-7de0582b1190"
      },
      "source": [
        "\n",
        "#list comprehension\n",
        "[print(x) for x in a]\n",
        "numbers=[10,20,40,53,50,70,87,66]\n",
        "[print(x) for x in numbers]\n",
        "[i for i in numbers if i%2==0]\n",
        "fruits=['apple','mango']\n",
        "[x.upper() for x in fruits]"
      ],
      "execution_count": 18,
      "outputs": [
        {
          "output_type": "stream",
          "name": "stdout",
          "text": [
            "4\n",
            "3\n",
            "2\n",
            "1\n",
            "10\n",
            "20\n",
            "40\n",
            "53\n",
            "50\n",
            "70\n",
            "87\n",
            "66\n"
          ]
        },
        {
          "output_type": "execute_result",
          "data": {
            "text/plain": [
              "['APPLE', 'MANGO']"
            ]
          },
          "metadata": {},
          "execution_count": 18
        }
      ]
    },
    {
      "cell_type": "code",
      "metadata": {
        "id": "ZGdNmDkQnuO2"
      },
      "source": [
        "#MAP AND FILTER \n",
        "def even_odd(num):\n",
        "  if num%2==0:\n",
        "    return True\n",
        "  else:\n",
        "      return False"
      ],
      "execution_count": 25,
      "outputs": []
    },
    {
      "cell_type": "code",
      "metadata": {
        "colab": {
          "base_uri": "https://localhost:8080/",
          "height": 35
        },
        "id": "gHhPSlw6n1zJ",
        "outputId": "c78287b4-66b5-4cea-b951-6c1ab5201636"
      },
      "source": [
        "even_odd(91)"
      ],
      "execution_count": 22,
      "outputs": [
        {
          "output_type": "execute_result",
          "data": {
            "application/vnd.google.colaboratory.intrinsic+json": {
              "type": "string"
            },
            "text/plain": [
              "'odd'"
            ]
          },
          "metadata": {},
          "execution_count": 22
        }
      ]
    },
    {
      "cell_type": "code",
      "metadata": {
        "colab": {
          "base_uri": "https://localhost:8080/"
        },
        "id": "JGKJpisKnurd",
        "outputId": "f26bce6a-bd16-4fa0-9cf0-7af9d84ddacb"
      },
      "source": [
        "numbers=[10,20,40,53,50,70,87,66]\n",
        "map(even_odd,numbers)\n",
        "list(map(even_odd,numbers))"
      ],
      "execution_count": 26,
      "outputs": [
        {
          "output_type": "execute_result",
          "data": {
            "text/plain": [
              "[True, True, True, False, True, True, False, True]"
            ]
          },
          "metadata": {},
          "execution_count": 26
        }
      ]
    },
    {
      "cell_type": "code",
      "metadata": {
        "colab": {
          "base_uri": "https://localhost:8080/"
        },
        "id": "Ehygz69IoQlL",
        "outputId": "d4887f18-ee81-4197-bb28-193f9c3a4005"
      },
      "source": [
        "list(filter(even_odd,numbers))\n",
        "#filters out the elements works for boolean values\n",
        "#returns only true values"
      ],
      "execution_count": 27,
      "outputs": [
        {
          "output_type": "execute_result",
          "data": {
            "text/plain": [
              "[10, 20, 40, 50, 70, 66]"
            ]
          },
          "metadata": {},
          "execution_count": 27
        }
      ]
    },
    {
      "cell_type": "code",
      "metadata": {
        "colab": {
          "base_uri": "https://localhost:8080/",
          "height": 207
        },
        "id": "3bkdWIglqgbg",
        "outputId": "ab49341d-cae1-4d7a-ba72-85ea1472a5b7"
      },
      "source": [
        "#lambda function\n",
        "lambda  x : x+100\n",
        "_(100)\n"
      ],
      "execution_count": 35,
      "outputs": [
        {
          "output_type": "error",
          "ename": "TypeError",
          "evalue": "ignored",
          "traceback": [
            "\u001b[0;31m---------------------------------------------------------------------------\u001b[0m",
            "\u001b[0;31mTypeError\u001b[0m                                 Traceback (most recent call last)",
            "\u001b[0;32m<ipython-input-35-7888fcaa345d>\u001b[0m in \u001b[0;36m<module>\u001b[0;34m()\u001b[0m\n\u001b[1;32m      1\u001b[0m \u001b[0;31m#lambda function\u001b[0m\u001b[0;34m\u001b[0m\u001b[0;34m\u001b[0m\u001b[0;34m\u001b[0m\u001b[0m\n\u001b[1;32m      2\u001b[0m \u001b[0;32mlambda\u001b[0m  \u001b[0mx\u001b[0m \u001b[0;34m:\u001b[0m \u001b[0mx\u001b[0m\u001b[0;34m+\u001b[0m\u001b[0;36m100\u001b[0m\u001b[0;34m\u001b[0m\u001b[0;34m\u001b[0m\u001b[0m\n\u001b[0;32m----> 3\u001b[0;31m \u001b[0m_\u001b[0m\u001b[0;34m(\u001b[0m\u001b[0;36m100\u001b[0m\u001b[0;34m)\u001b[0m\u001b[0;34m\u001b[0m\u001b[0;34m\u001b[0m\u001b[0m\n\u001b[0m",
            "\u001b[0;31mTypeError\u001b[0m: 'int' object is not callable"
          ]
        }
      ]
    },
    {
      "cell_type": "code",
      "metadata": {
        "colab": {
          "base_uri": "https://localhost:8080/"
        },
        "id": "f1Bq7f9onutv",
        "outputId": "12f4fed7-e756-4c73-a216-e2d6931d1cac"
      },
      "source": [
        "y=lambda a,b:a+b\n",
        "y(10,2)"
      ],
      "execution_count": 34,
      "outputs": [
        {
          "output_type": "execute_result",
          "data": {
            "text/plain": [
              "12"
            ]
          },
          "metadata": {},
          "execution_count": 34
        }
      ]
    },
    {
      "cell_type": "code",
      "metadata": {
        "colab": {
          "base_uri": "https://localhost:8080/"
        },
        "id": "eCe6bG6snuyH",
        "outputId": "a4c395c0-265a-4663-cfc9-eed8ba28c3d4"
      },
      "source": [
        "add=lambda a,b,c:a+b+c\n",
        "add(a,b,c)\n",
        "list(map(add,a,b,c))"
      ],
      "execution_count": 39,
      "outputs": [
        {
          "output_type": "execute_result",
          "data": {
            "text/plain": [
              "[6, 12, 11, 11]"
            ]
          },
          "metadata": {},
          "execution_count": 39
        }
      ]
    },
    {
      "cell_type": "code",
      "metadata": {
        "colab": {
          "base_uri": "https://localhost:8080/"
        },
        "id": "2QWO3F4erd3S",
        "outputId": "5b9b9056-e7e5-4453-ddf9-47543b6ca0eb"
      },
      "source": [
        "list(map(lambda a,b,c:a+b+c,a,b,c))"
      ],
      "execution_count": 40,
      "outputs": [
        {
          "output_type": "execute_result",
          "data": {
            "text/plain": [
              "[6, 12, 11, 11]"
            ]
          },
          "metadata": {},
          "execution_count": 40
        }
      ]
    },
    {
      "cell_type": "code",
      "metadata": {
        "colab": {
          "base_uri": "https://localhost:8080/"
        },
        "id": "xz4VTcY2nuvy",
        "outputId": "abca3d91-5d9d-4829-a997-e613b96aa677"
      },
      "source": [
        "a=[1,2,3,4]\n",
        "b=[4,3,5,6]\n",
        "c=[1,7,3,1]\n",
        "a+b+c\n",
        "#just concatenates"
      ],
      "execution_count": 36,
      "outputs": [
        {
          "output_type": "execute_result",
          "data": {
            "text/plain": [
              "[1, 2, 3, 4, 4, 3, 5, 6, 1, 7, 3, 1]"
            ]
          },
          "metadata": {},
          "execution_count": 36
        }
      ]
    },
    {
      "cell_type": "code",
      "metadata": {
        "colab": {
          "base_uri": "https://localhost:8080/",
          "height": 207
        },
        "id": "rNj4-DobsnFT",
        "outputId": "dfb484b7-8c68-4866-d1a1-f0fca261f5e4"
      },
      "source": [
        "print('hi all')\n",
        "#convert text to speech \n",
        "# PYTTSX3\n"
      ],
      "execution_count": 42,
      "outputs": [
        {
          "output_type": "stream",
          "name": "stdout",
          "text": [
            "hi all\n"
          ]
        },
        {
          "output_type": "error",
          "ename": "NameError",
          "evalue": "ignored",
          "traceback": [
            "\u001b[0;31m---------------------------------------------------------------------------\u001b[0m",
            "\u001b[0;31mNameError\u001b[0m                                 Traceback (most recent call last)",
            "\u001b[0;32m<ipython-input-42-cdc4c49aa407>\u001b[0m in \u001b[0;36m<module>\u001b[0;34m()\u001b[0m\n\u001b[1;32m      1\u001b[0m \u001b[0mprint\u001b[0m\u001b[0;34m(\u001b[0m\u001b[0;34m'hi all'\u001b[0m\u001b[0;34m)\u001b[0m\u001b[0;34m\u001b[0m\u001b[0;34m\u001b[0m\u001b[0m\n\u001b[0;32m----> 2\u001b[0;31m \u001b[0mspeak\u001b[0m\u001b[0;34m(\u001b[0m\u001b[0;34m'hi all'\u001b[0m\u001b[0;34m)\u001b[0m\u001b[0;34m\u001b[0m\u001b[0;34m\u001b[0m\u001b[0m\n\u001b[0m",
            "\u001b[0;31mNameError\u001b[0m: name 'speak' is not defined"
          ]
        }
      ]
    },
    {
      "cell_type": "code",
      "metadata": {
        "colab": {
          "base_uri": "https://localhost:8080/"
        },
        "id": "SmIwXBEvsnQZ",
        "outputId": "91702da6-4d88-4b72-f641-9cef53113f71"
      },
      "source": [
        "!pip install pyttsx3"
      ],
      "execution_count": 43,
      "outputs": [
        {
          "output_type": "stream",
          "name": "stdout",
          "text": [
            "Collecting pyttsx3\n",
            "  Downloading pyttsx3-2.90-py3-none-any.whl (39 kB)\n",
            "Installing collected packages: pyttsx3\n",
            "Successfully installed pyttsx3-2.90\n"
          ]
        }
      ]
    },
    {
      "cell_type": "code",
      "metadata": {
        "id": "Lzu4cMsZsnUk"
      },
      "source": [
        "import pyttsx3"
      ],
      "execution_count": 46,
      "outputs": []
    },
    {
      "cell_type": "code",
      "metadata": {
        "id": "GOVbkIdysnXg"
      },
      "source": [
        "a=pyttsx3.init()\n",
        "voices=a.getProperty('voices')\n",
        "bot1.setProperty('voice',voices[0].id)\n",
        "\n"
      ],
      "execution_count": null,
      "outputs": []
    },
    {
      "cell_type": "code",
      "metadata": {
        "id": "5pofrsDfu3CN"
      },
      "source": [
        "a=pyttsx3.init()"
      ],
      "execution_count": null,
      "outputs": []
    },
    {
      "cell_type": "code",
      "metadata": {
        "id": "w_930J3LsnaB"
      },
      "source": [
        "text_to_speech(\"hello all students,how are u all\")"
      ],
      "execution_count": null,
      "outputs": []
    },
    {
      "cell_type": "code",
      "metadata": {
        "id": "rCxc2ZVpvuKy"
      },
      "source": [
        "def text_to_speech(text):\n",
        "  a.say(text)\n",
        "  a.runAndWait()"
      ],
      "execution_count": 57,
      "outputs": []
    },
    {
      "cell_type": "code",
      "metadata": {
        "colab": {
          "base_uri": "https://localhost:8080/"
        },
        "id": "ywyxeNvNsneD",
        "outputId": "631b9b14-21b2-46bd-8ded-eeb56dbd94fb"
      },
      "source": [
        "!sudo apt install libespeak1\n",
        "\n"
      ],
      "execution_count": 52,
      "outputs": [
        {
          "output_type": "stream",
          "name": "stdout",
          "text": [
            "Reading package lists... Done\n",
            "Building dependency tree       \n",
            "Reading state information... Done\n",
            "The following additional packages will be installed:\n",
            "  espeak-data libportaudio2 libsonic0\n",
            "The following NEW packages will be installed:\n",
            "  espeak-data libespeak1 libportaudio2 libsonic0\n",
            "0 upgraded, 4 newly installed, 0 to remove and 40 not upgraded.\n",
            "Need to get 1,157 kB of archives.\n",
            "After this operation, 2,822 kB of additional disk space will be used.\n",
            "Get:1 http://archive.ubuntu.com/ubuntu bionic/universe amd64 espeak-data amd64 1.48.04+dfsg-5 [934 kB]\n",
            "Get:2 http://archive.ubuntu.com/ubuntu bionic/universe amd64 libportaudio2 amd64 19.6.0-1 [64.6 kB]\n",
            "Get:3 http://archive.ubuntu.com/ubuntu bionic/main amd64 libsonic0 amd64 0.2.0-6 [13.4 kB]\n",
            "Get:4 http://archive.ubuntu.com/ubuntu bionic/universe amd64 libespeak1 amd64 1.48.04+dfsg-5 [145 kB]\n",
            "Fetched 1,157 kB in 1s (1,320 kB/s)\n",
            "debconf: unable to initialize frontend: Dialog\n",
            "debconf: (No usable dialog-like program is installed, so the dialog based frontend cannot be used. at /usr/share/perl5/Debconf/FrontEnd/Dialog.pm line 76, <> line 4.)\n",
            "debconf: falling back to frontend: Readline\n",
            "debconf: unable to initialize frontend: Readline\n",
            "debconf: (This frontend requires a controlling tty.)\n",
            "debconf: falling back to frontend: Teletype\n",
            "dpkg-preconfigure: unable to re-open stdin: \n",
            "Selecting previously unselected package espeak-data:amd64.\n",
            "(Reading database ... 148492 files and directories currently installed.)\n",
            "Preparing to unpack .../espeak-data_1.48.04+dfsg-5_amd64.deb ...\n",
            "Unpacking espeak-data:amd64 (1.48.04+dfsg-5) ...\n",
            "Selecting previously unselected package libportaudio2:amd64.\n",
            "Preparing to unpack .../libportaudio2_19.6.0-1_amd64.deb ...\n",
            "Unpacking libportaudio2:amd64 (19.6.0-1) ...\n",
            "Selecting previously unselected package libsonic0:amd64.\n",
            "Preparing to unpack .../libsonic0_0.2.0-6_amd64.deb ...\n",
            "Unpacking libsonic0:amd64 (0.2.0-6) ...\n",
            "Selecting previously unselected package libespeak1:amd64.\n",
            "Preparing to unpack .../libespeak1_1.48.04+dfsg-5_amd64.deb ...\n",
            "Unpacking libespeak1:amd64 (1.48.04+dfsg-5) ...\n",
            "Setting up libportaudio2:amd64 (19.6.0-1) ...\n",
            "Setting up espeak-data:amd64 (1.48.04+dfsg-5) ...\n",
            "Setting up libsonic0:amd64 (0.2.0-6) ...\n",
            "Setting up libespeak1:amd64 (1.48.04+dfsg-5) ...\n",
            "Processing triggers for libc-bin (2.27-3ubuntu1.2) ...\n",
            "/sbin/ldconfig.real: /usr/local/lib/python3.7/dist-packages/ideep4py/lib/libmkldnn.so.0 is not a symbolic link\n",
            "\n"
          ]
        }
      ]
    },
    {
      "cell_type": "code",
      "metadata": {
        "id": "JGqfezw5snhR"
      },
      "source": [
        "import pyttsx3"
      ],
      "execution_count": 53,
      "outputs": []
    },
    {
      "cell_type": "code",
      "metadata": {
        "id": "zBFvxMjmsnjX"
      },
      "source": [
        "a=pyttsx3.init()\n",
        "voices=a.getProperty('voices')\n",
        "a.setProperty('voice',voices[0].id)"
      ],
      "execution_count": 55,
      "outputs": []
    },
    {
      "cell_type": "code",
      "metadata": {
        "id": "LlygLK-_vpEE"
      },
      "source": [
        "text_to_speech(\"hello all students,how are u all\")\n"
      ],
      "execution_count": 59,
      "outputs": []
    },
    {
      "cell_type": "code",
      "metadata": {
        "id": "sP8JMOshv291"
      },
      "source": [
        "#speech recognition pyaaudio,wikipedia"
      ],
      "execution_count": null,
      "outputs": []
    },
    {
      "cell_type": "code",
      "metadata": {
        "colab": {
          "base_uri": "https://localhost:8080/"
        },
        "id": "aoLIUWYGv3DL",
        "outputId": "1af686ac-8436-42cf-de6d-b3fa697a28d5"
      },
      "source": [
        "#tuple is immutable\n",
        "t=(1,2,3,6)\n",
        "type(t)"
      ],
      "execution_count": 72,
      "outputs": [
        {
          "output_type": "execute_result",
          "data": {
            "text/plain": [
              "tuple"
            ]
          },
          "metadata": {},
          "execution_count": 72
        }
      ]
    },
    {
      "cell_type": "code",
      "metadata": {
        "id": "J6oMjmcWv3GV"
      },
      "source": [
        "def func():\n",
        "  x=100\n",
        "  y=\"oram\"\n",
        "  return x,y\n"
      ],
      "execution_count": 65,
      "outputs": []
    },
    {
      "cell_type": "code",
      "metadata": {
        "colab": {
          "base_uri": "https://localhost:8080/"
        },
        "id": "JfvXlK_Iwfvc",
        "outputId": "f2baae1f-61be-4dcd-9fa0-3c1b70c90115"
      },
      "source": [
        "a=func()\n",
        "type(a)\n",
        "t.index(2)\n",
        "t.count(3)"
      ],
      "execution_count": 73,
      "outputs": [
        {
          "output_type": "execute_result",
          "data": {
            "text/plain": [
              "1"
            ]
          },
          "metadata": {},
          "execution_count": 73
        }
      ]
    },
    {
      "cell_type": "code",
      "metadata": {
        "colab": {
          "base_uri": "https://localhost:8080/"
        },
        "id": "rR_ikn-VxRwH",
        "outputId": "813b97f4-892a-4625-899e-34e93f5bc11f"
      },
      "source": [
        "##set\n",
        "\n",
        "x=set()\n",
        "type(x)"
      ],
      "execution_count": 74,
      "outputs": [
        {
          "output_type": "execute_result",
          "data": {
            "text/plain": [
              "set"
            ]
          },
          "metadata": {},
          "execution_count": 74
        }
      ]
    },
    {
      "cell_type": "code",
      "metadata": {
        "colab": {
          "base_uri": "https://localhost:8080/"
        },
        "id": "2NE4VG3YxRyq",
        "outputId": "40d5d9fe-a9aa-4810-8ef3-6df27ee6ee8e"
      },
      "source": [
        "x.add(1)\n",
        "x.add(4)\n",
        "x.add(4)\n",
        "x.add(3)\n",
        "x\n",
        "#prints only non repeated values\n"
      ],
      "execution_count": 76,
      "outputs": [
        {
          "output_type": "execute_result",
          "data": {
            "text/plain": [
              "{1, 3, 4}"
            ]
          },
          "metadata": {},
          "execution_count": 76
        }
      ]
    },
    {
      "cell_type": "code",
      "metadata": {
        "colab": {
          "base_uri": "https://localhost:8080/"
        },
        "id": "VXiLUfiHxR02",
        "outputId": "21339b2d-7807-4a2b-bffb-8582f62b1a80"
      },
      "source": [
        "##dictionaries\n",
        "\n",
        "#key-value pair mapping\n",
        "student={'rollno':121,'nqme':\"ram\",'marks':[1,2,3]}\n",
        "student"
      ],
      "execution_count": 91,
      "outputs": [
        {
          "output_type": "execute_result",
          "data": {
            "text/plain": [
              "{'marks': [1, 2, 3], 'nqme': 'ram', 'rollno': 121}"
            ]
          },
          "metadata": {},
          "execution_count": 91
        }
      ]
    },
    {
      "cell_type": "code",
      "metadata": {
        "id": "q6DShDIKxR_5"
      },
      "source": [
        "i=0\n",
        "total=0\n",
        "for i in range(len(student['marks'])):\n",
        "  total=total+student['marks'][i]\n"
      ],
      "execution_count": 96,
      "outputs": []
    },
    {
      "cell_type": "code",
      "metadata": {
        "colab": {
          "base_uri": "https://localhost:8080/"
        },
        "id": "H4TcGVMj0wKj",
        "outputId": "836df6b7-ee3a-40b2-dec1-e4e1d8f64f27"
      },
      "source": [
        "total"
      ],
      "execution_count": 97,
      "outputs": [
        {
          "output_type": "execute_result",
          "data": {
            "text/plain": [
              "6"
            ]
          },
          "metadata": {},
          "execution_count": 97
        }
      ]
    },
    {
      "cell_type": "code",
      "metadata": {
        "colab": {
          "base_uri": "https://localhost:8080/"
        },
        "id": "hJdoRGCJxR4B",
        "outputId": "ae1cbc4f-6d88-4d30-c4e5-f10820e9285e"
      },
      "source": [
        "type(student)\n",
        "student['marks'][2]"
      ],
      "execution_count": 81,
      "outputs": [
        {
          "output_type": "execute_result",
          "data": {
            "text/plain": [
              "3"
            ]
          },
          "metadata": {},
          "execution_count": 81
        }
      ]
    },
    {
      "cell_type": "code",
      "metadata": {
        "colab": {
          "base_uri": "https://localhost:8080/"
        },
        "id": "ZSxsVquSxR6j",
        "outputId": "a2d5a867-9a7f-42b1-9e65-c5adce75a565"
      },
      "source": [
        "student.keys()"
      ],
      "execution_count": 82,
      "outputs": [
        {
          "output_type": "execute_result",
          "data": {
            "text/plain": [
              "dict_keys(['rollno', 'nqme', 'marks'])"
            ]
          },
          "metadata": {},
          "execution_count": 82
        }
      ]
    },
    {
      "cell_type": "code",
      "metadata": {
        "colab": {
          "base_uri": "https://localhost:8080/"
        },
        "id": "hjxV1h5cxR9V",
        "outputId": "07ac5319-d73b-4232-8e4e-0a53ea84589f"
      },
      "source": [
        "student.values()"
      ],
      "execution_count": 83,
      "outputs": [
        {
          "output_type": "execute_result",
          "data": {
            "text/plain": [
              "dict_values([121, 'ram', [1, 2, 3]])"
            ]
          },
          "metadata": {},
          "execution_count": 83
        }
      ]
    },
    {
      "cell_type": "code",
      "metadata": {
        "id": "SxB7gmYkxSC5"
      },
      "source": [
        "#numpy\n",
        "#keras,sklearn,tensorflow,opencv"
      ],
      "execution_count": null,
      "outputs": []
    }
  ]
}